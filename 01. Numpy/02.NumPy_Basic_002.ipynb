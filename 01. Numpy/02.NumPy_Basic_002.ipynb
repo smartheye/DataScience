{
 "cells": [
  {
   "cell_type": "code",
   "execution_count": 1,
   "metadata": {
    "collapsed": true
   },
   "outputs": [],
   "source": [
    "import numpy as np\n",
    "import matplotlib\n",
    "%matplotlib inline"
   ]
  },
  {
   "cell_type": "code",
   "execution_count": 5,
   "metadata": {},
   "outputs": [
    {
     "data": {
      "text/plain": [
       "array([[[10, 20, 30, 40],\n        [41, 51, 61, 71]],\n\n       [[11, 21, 31, 41],\n        [45, 55, 65, 75]],\n\n       [[12, 22, 32, 42],\n        [46, 56, 66, 76]]])"
      ]
     },
     "execution_count": 5,
     "metadata": {},
     "output_type": "execute_result"
    }
   ],
   "source": [
    "x = np.array([[[10, 20, 30, 40],[41, 51, 61, 71]],\n",
    "              [[11, 21, 31, 41],[45, 55, 65, 75]],\n",
    "              [[12, 22, 32, 42],[46, 56, 66, 76]]], np.int32)\n",
    "x"
   ]
  },
  {
   "cell_type": "code",
   "execution_count": 3,
   "metadata": {},
   "outputs": [
    {
     "data": {
      "text/plain": [
       "(3, 2, 4)"
      ]
     },
     "execution_count": 3,
     "metadata": {},
     "output_type": "execute_result"
    }
   ],
   "source": [
    "x.shape"
   ]
  },
  {
   "cell_type": "code",
   "execution_count": 4,
   "metadata": {},
   "outputs": [
    {
     "data": {
      "text/plain": [
       "array([40, 71])"
      ]
     },
     "execution_count": 4,
     "metadata": {},
     "output_type": "execute_result"
    }
   ],
   "source": [
    "x[0, :, -1]"
   ]
  },
  {
   "cell_type": "code",
   "execution_count": 6,
   "metadata": {},
   "outputs": [
    {
     "data": {
      "text/plain": [
       "array([41, 51, 61, 71])"
      ]
     },
     "execution_count": 6,
     "metadata": {},
     "output_type": "execute_result"
    }
   ],
   "source": [
    "x[0, -1, :]  #[41,51,61,71]"
   ]
  },
  {
   "cell_type": "code",
   "execution_count": 7,
   "metadata": {},
   "outputs": [
    {
     "data": {
      "text/plain": [
       "array([10, 20, 30, 40, 41, 51, 61, 71, 11, 21, 31, 41, 45, 55, 65, 75, 12,\n       22, 32, 42, 46, 56, 66, 76])"
      ]
     },
     "execution_count": 7,
     "metadata": {},
     "output_type": "execute_result"
    }
   ],
   "source": [
    "x.ravel()"
   ]
  },
  {
   "cell_type": "code",
   "execution_count": 14,
   "metadata": {},
   "outputs": [
    {
     "data": {
      "text/plain": [
       "array([10, 20, 30, 40, 41, 51, 61, 71, 11, 21, 31, 41, 45, 55, 65, 75, 12,\n       22, 32, 42, 46, 56, 66, 76])"
      ]
     },
     "execution_count": 14,
     "metadata": {},
     "output_type": "execute_result"
    }
   ],
   "source": [
    "x.flatten()"
   ]
  },
  {
   "cell_type": "code",
   "execution_count": 18,
   "metadata": {},
   "outputs": [
    {
     "name": "stdout",
     "output_type": "stream",
     "text": [
      "before transpose, shape= (3, 2, 4)\n[[[10 20 30 40]\n  [41 51 61 71]]\n\n [[11 21 31 41]\n  [45 55 65 75]]\n\n [[12 22 32 42]\n  [46 56 66 76]]]\nafter transpose, shape= (4, 2, 3)\n[[[10 11 12]\n  [41 45 46]]\n\n [[20 21 22]\n  [51 55 56]]\n\n [[30 31 32]\n  [61 65 66]]\n\n [[40 41 42]\n  [71 75 76]]]\n"
     ]
    }
   ],
   "source": [
    "print(\"before transpose, shape=\", x.shape)\n",
    "y = x.transpose()\n",
    "print(x)\n",
    "print(\"after transpose, shape=\", y.shape)\n",
    "print(y)"
   ]
  },
  {
   "cell_type": "code",
   "execution_count": 23,
   "metadata": {},
   "outputs": [
    {
     "data": {
      "text/plain": [
       "array([[[ 0,  1],\n        [ 2,  3],\n        [ 4,  5]],\n\n       [[ 6,  7],\n        [ 8,  9],\n        [10, 11]],\n\n       [[12, 13],\n        [14, 15],\n        [16, 17]]])"
      ]
     },
     "execution_count": 23,
     "metadata": {},
     "output_type": "execute_result"
    }
   ],
   "source": [
    "x1 = np.arange(0, 18).reshape(3, 3, 2)\n",
    "x1"
   ]
  },
  {
   "cell_type": "code",
   "execution_count": 27,
   "metadata": {},
   "outputs": [
    {
     "data": {
      "text/plain": [
       "array([[[  0,   1],\n        [  2,   3],\n        [  4,   5],\n        [ 10,  11],\n        [ 12,  13],\n        [ 14,  15]],\n\n       [[  6,   7],\n        [  8,   9],\n        [ 10,  11],\n        [ 16,  17],\n        [ 18,  19],\n        [110, 111]],\n\n       [[ 12,  13],\n        [ 14,  15],\n        [ 16,  17],\n        [112, 113],\n        [114, 115],\n        [116, 117]]])"
      ]
     },
     "execution_count": 27,
     "metadata": {},
     "output_type": "execute_result"
    }
   ],
   "source": [
    "x2 = np.array([[[ 10,  11],\n",
    "        [ 12,  13],\n",
    "        [ 14,  15]],\n",
    "\n",
    "       [[ 16,  17],\n",
    "        [ 18,  19],\n",
    "        [110, 111]],\n",
    "\n",
    "       [[112, 113],\n",
    "        [114, 115],\n",
    "        [116, 117]]])\n",
    "\n",
    "np.hstack((x1, x2))"
   ]
  },
  {
   "cell_type": "code",
   "execution_count": 28,
   "metadata": {},
   "outputs": [
    {
     "data": {
      "text/plain": [
       "(3, 6, 2)"
      ]
     },
     "execution_count": 28,
     "metadata": {},
     "output_type": "execute_result"
    }
   ],
   "source": [
    "np.hstack((x1, x2)).shape"
   ]
  },
  {
   "cell_type": "code",
   "execution_count": 30,
   "metadata": {},
   "outputs": [
    {
     "data": {
      "text/plain": [
       "(6, 3, 2)"
      ]
     },
     "execution_count": 30,
     "metadata": {},
     "output_type": "execute_result"
    }
   ],
   "source": [
    "np.vstack((x1, x2)).shape"
   ]
  },
  {
   "cell_type": "code",
   "execution_count": 31,
   "metadata": {},
   "outputs": [
    {
     "data": {
      "text/plain": [
       "array([[[  0,   1,  10,  11],\n        [  2,   3,  12,  13],\n        [  4,   5,  14,  15]],\n\n       [[  6,   7,  16,  17],\n        [  8,   9,  18,  19],\n        [ 10,  11, 110, 111]],\n\n       [[ 12,  13, 112, 113],\n        [ 14,  15, 114, 115],\n        [ 16,  17, 116, 117]]])"
      ]
     },
     "execution_count": 31,
     "metadata": {},
     "output_type": "execute_result"
    }
   ],
   "source": [
    "np.concatenate((x1, x2), axis=-1)"
   ]
  },
  {
   "cell_type": "code",
   "execution_count": 32,
   "metadata": {},
   "outputs": [
    {
     "data": {
      "text/plain": [
       "(3, 3, 4)"
      ]
     },
     "execution_count": 32,
     "metadata": {},
     "output_type": "execute_result"
    }
   ],
   "source": [
    "np.concatenate((x1, x2), axis=-1).shape"
   ]
  },
  {
   "cell_type": "code",
   "execution_count": 33,
   "metadata": {},
   "outputs": [
    {
     "data": {
      "text/plain": [
       "(3, 3, 4)"
      ]
     },
     "execution_count": 33,
     "metadata": {},
     "output_type": "execute_result"
    }
   ],
   "source": [
    "np.dstack((x1, x2)).shape"
   ]
  },
  {
   "cell_type": "code",
   "execution_count": 38,
   "metadata": {},
   "outputs": [
    {
     "data": {
      "text/plain": [
       "array([[0, 1],\n       [2, 3]])"
      ]
     },
     "execution_count": 38,
     "metadata": {},
     "output_type": "execute_result"
    }
   ],
   "source": [
    "x1 = np.arange(0,4).reshape(2,2)\n",
    "x1"
   ]
  },
  {
   "cell_type": "code",
   "execution_count": 40,
   "metadata": {},
   "outputs": [
    {
     "data": {
      "text/plain": [
       "array([[5, 6],\n       [7, 8]])"
      ]
     },
     "execution_count": 40,
     "metadata": {},
     "output_type": "execute_result"
    }
   ],
   "source": [
    "x2 = np.arange(5,9).reshape(2,2)\n",
    "x2"
   ]
  },
  {
   "cell_type": "code",
   "execution_count": 41,
   "metadata": {},
   "outputs": [
    {
     "data": {
      "text/plain": [
       "array([[[0, 5],\n        [1, 6]],\n\n       [[2, 7],\n        [3, 8]]])"
      ]
     },
     "execution_count": 41,
     "metadata": {},
     "output_type": "execute_result"
    }
   ],
   "source": [
    "np.dstack((x1, x2))"
   ]
  },
  {
   "cell_type": "code",
   "execution_count": 42,
   "metadata": {},
   "outputs": [
    {
     "data": {
      "text/plain": [
       "(2, 2, 2)"
      ]
     },
     "execution_count": 42,
     "metadata": {},
     "output_type": "execute_result"
    }
   ],
   "source": [
    "np.dstack((x1, x2)).shape"
   ]
  },
  {
   "cell_type": "code",
   "execution_count": null,
   "metadata": {},
   "outputs": [],
   "source": [
    ""
   ]
  }
 ],
 "metadata": {
  "kernelspec": {
   "display_name": "Python 2",
   "language": "python",
   "name": "python2"
  },
  "language_info": {
   "codemirror_mode": {
    "name": "ipython",
    "version": 2.0
   },
   "file_extension": ".py",
   "mimetype": "text/x-python",
   "name": "python",
   "nbconvert_exporter": "python",
   "pygments_lexer": "ipython2",
   "version": "2.7.6"
  }
 },
 "nbformat": 4,
 "nbformat_minor": 0
}